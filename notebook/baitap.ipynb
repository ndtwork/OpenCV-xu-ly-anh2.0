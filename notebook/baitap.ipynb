{
 "cells": [
  {
   "metadata": {
    "ExecuteTime": {
     "end_time": "2024-10-20T17:09:13.916642Z",
     "start_time": "2024-10-20T17:09:13.908523Z"
    }
   },
   "cell_type": "code",
   "source": [
    "import numpy as np\n",
    "import matplotlib.pyplot as plt\n",
    "from skimage import exposure\n",
    "\n",
    "\n",
    "X1 = np.array([\n",
    "    [52, 55, 61, 66, 70, 61, 64, 73],\n",
    "    [63, 59, 55, 90, 109, 85, 69, 72],\n",
    "    [62, 59, 68, 113, 144, 104, 66, 73],\n",
    "    [63, 58, 71, 122, 154, 106, 70, 69],\n",
    "    [67, 61, 68, 104, 126, 88, 68, 70],\n",
    "    [79, 65, 60, 70, 77, 68, 58, 75],\n",
    "    [85, 71, 64, 59, 55, 61, 65, 83],\n",
    "    [87, 79, 69, 68, 65, 76, 78, 94]\n",
    "])\n",
    "\n",
    "X2 = np.array([\n",
    "    [19, 17, 2, 1, 1, 2, 2, 1],\n",
    "    [18, 19, 19, 17, 1, 1, 1, 1],\n",
    "    [17, 18, 19, 17, 1, 2, 1, 1],\n",
    "    [18, 19, 19, 19, 19, 1, 1, 2],\n",
    "    [18, 19, 19, 18, 17, 2, 3, 3],\n",
    "    [19, 19, 19, 18, 18, 2, 2, 1],\n",
    "    [19, 19, 18, 18, 17, 1, 2, 1],\n",
    "    [18, 19, 18, 17, 3, 1, 1, 3]\n",
    "])\n",
    "\n",
    "X3 = np.array([\n",
    "    [1, 97, 98, 1, 1, 2, 2, 1],\n",
    "    [1, 99, 99, 4, 1, 211, 202, 1],\n",
    "    [2, 98, 99, 4, 1, 2, 2, 2],\n",
    "    [1, 99, 99, 3, 3, 1, 98, 99],\n",
    "    [1, 99, 99, 3, 2, 99, 98, 98],\n",
    "    [1, 99, 99, 99, 99, 97, 99, 1],\n",
    "    [2, 99, 98, 97, 99, 2, 1, 1],\n",
    "    [1, 1, 1, 97, 98, 1, 1, 3]\n",
    "])\n",
    "\n",
    "print(\"Matrix X1:\", X1)\n",
    "print(\"Matrix X2:\", X2)\n",
    "print(\"Matrix X3:\", X3)"
   ],
   "id": "65c5785f6fbc1d99",
   "outputs": [
    {
     "name": "stdout",
     "output_type": "stream",
     "text": [
      "Matrix X1: [[ 52  55  61  66  70  61  64  73]\n",
      " [ 63  59  55  90 109  85  69  72]\n",
      " [ 62  59  68 113 144 104  66  73]\n",
      " [ 63  58  71 122 154 106  70  69]\n",
      " [ 67  61  68 104 126  88  68  70]\n",
      " [ 79  65  60  70  77  68  58  75]\n",
      " [ 85  71  64  59  55  61  65  83]\n",
      " [ 87  79  69  68  65  76  78  94]]\n",
      "Matrix X2: [[19 17  2  1  1  2  2  1]\n",
      " [18 19 19 17  1  1  1  1]\n",
      " [17 18 19 17  1  2  1  1]\n",
      " [18 19 19 19 19  1  1  2]\n",
      " [18 19 19 18 17  2  3  3]\n",
      " [19 19 19 18 18  2  2  1]\n",
      " [19 19 18 18 17  1  2  1]\n",
      " [18 19 18 17  3  1  1  3]]\n",
      "Matrix X3: [[  1  97  98   1   1   2   2   1]\n",
      " [  1  99  99   4   1 211 202   1]\n",
      " [  2  98  99   4   1   2   2   2]\n",
      " [  1  99  99   3   3   1  98  99]\n",
      " [  1  99  99   3   2  99  98  98]\n",
      " [  1  99  99  99  99  97  99   1]\n",
      " [  2  99  98  97  99   2   1   1]\n",
      " [  1   1   1  97  98   1   1   3]]\n"
     ]
    }
   ],
   "execution_count": 26
  },
  {
   "metadata": {},
   "cell_type": "markdown",
   "source": "## II.3 Histogram",
   "id": "a48951861202e5b5"
  },
  {
   "metadata": {},
   "cell_type": "code",
   "source": [
    "\n",
    "# Vẽ histogram của X1 và X2\n",
    "plt.figure(figsize=(12, 6))\n",
    "\n",
    "# Histogram cho X1\n",
    "plt.subplot(1, 2, 1)\n",
    "plt.hist(X1.ravel(), bins=256, range=(0, 255), color='gray')\n",
    "plt.title('Histogram của X1')\n",
    "plt.xlabel('Mức xám')\n",
    "plt.ylabel('Số lượng pixel')\n",
    "\n",
    "# Histogram cho X2\n",
    "plt.subplot(1, 2, 2)\n",
    "plt.hist(X2.ravel(), bins=256, range=(0, 255), color='gray')\n",
    "plt.title('Histogram của X2')\n",
    "plt.xlabel('Mức xám')\n",
    "plt.ylabel('Số lượng pixel')\n",
    "\n",
    "plt.tight_layout()\n",
    "plt.show()\n",
    "\n",
    "# Cân bằng histogram cho X2\n",
    "X2_equalized = exposure.equalize_hist(X2)\n",
    "\n",
    "# Vẽ histogram sau khi cân bằng\n",
    "plt.figure(figsize=(12, 6))\n",
    "\n",
    "plt.subplot(1, 2, 1)\n",
    "plt.imshow(X2, cmap='gray')\n",
    "plt.title('Ảnh X2 gốc')\n",
    "\n",
    "plt.subplot(1, 2, 2)\n",
    "plt.imshow(X2_equalized, cmap='gray')\n",
    "plt.title('Ảnh X2 sau khi cân bằng Histogram')\n",
    "\n",
    "plt.tight_layout()\n",
    "plt.show()\n",
    "\n",
    "# Histogram sau khi cân bằng\n",
    "plt.figure(figsize=(6, 6))\n",
    "plt.hist(X2_equalized.ravel(), bins=256, range=(0, 1), color='gray')\n",
    "plt.title('Histogram sau khi cân bằng của X2')\n",
    "plt.xlabel('Mức xám (Sau khi cân bằng)')\n",
    "plt.ylabel('Số lượng pixel')\n",
    "plt.show()\n"
   ],
   "id": "f091fcd5268bcfeb",
   "outputs": [],
   "execution_count": null
  },
  {
   "metadata": {},
   "cell_type": "markdown",
   "source": "## II.4 Lọc tuyến tính:",
   "id": "93ef7c1e8469bf95"
  },
  {
   "metadata": {},
   "cell_type": "markdown",
   "source": [
    "### II.4.1. Lọc thông thấp (Low Pass Filter: Smoothing)\n",
    "mask lọc trung bình  \n",
    "lọc gaussian"
   ],
   "id": "86ddd4feabcf50e3"
  },
  {
   "metadata": {},
   "cell_type": "code",
   "source": [
    "from scipy.ndimage import convolve\n",
    "\n",
    "# Mask lọc trung bình\n",
    "average_filter = np.ones((3, 3)) / 9\n",
    "\n",
    "# Lọc trung bình\n",
    "X2_average_filtered = convolve(X2, average_filter)\n",
    "print(\"# X2 ban đầu \\n\", X2)\n",
    "print(\"# Lọc trung bình \\n\", X2_average_filtered)"
   ],
   "id": "6d3d2aceaca37aa",
   "outputs": [],
   "execution_count": null
  },
  {
   "metadata": {},
   "cell_type": "code",
   "source": [
    "plt.subplot(1, 3, 1)\n",
    "plt.imshow(X2, cmap='gray')\n",
    "plt.title('Ảnh X2 gốc')\n",
    "\n",
    "plt.subplot(1, 3, 2)\n",
    "plt.imshow(X2_average_filtered, cmap='gray')\n",
    "plt.title('Lọc trung bình trên X2')\n",
    "\n",
    "from scipy.ndimage import gaussian_filter\n",
    "\n",
    "# Lọc Gaussian\n",
    "X2_gaussian_filtered = gaussian_filter(X2, sigma=1)\n",
    "plt.subplot(1, 3, 3)\n",
    "plt.imshow(X2_gaussian_filtered, cmap='gray')\n",
    "plt.title('Lọc Gaussian trên X2')\n",
    "plt.show()\n",
    "\n"
   ],
   "id": "c3ef5b46e09fe47e",
   "outputs": [],
   "execution_count": null
  },
  {
   "metadata": {},
   "cell_type": "markdown",
   "source": [
    "### II.4.2. Lọc thông cao (High pass filter):\n",
    "#### Lọc làm sắc nét"
   ],
   "id": "4e2386b553feeac"
  },
  {
   "metadata": {},
   "cell_type": "code",
   "outputs": [],
   "execution_count": null,
   "source": [
    "# Mask lọc làm sắc nét (Sharpening filter)\n",
    "sharpening_filter = np.array([\n",
    "    [0, -1, 0],\n",
    "    [-1, 5, -1],\n",
    "    [0, -1, 0]\n",
    "])\n",
    "\n",
    "# Lọc làm sắc nét\n",
    "X2_sharpened = convolve(X2, sharpening_filter)\n",
    "\n",
    "plt.imshow(X2_sharpened, cmap='gray')\n",
    "plt.title('Lọc làm sắc nét trên X2')\n",
    "plt.show()"
   ],
   "id": "1fb822e99d91af7e"
  },
  {
   "metadata": {},
   "cell_type": "markdown",
   "source": [
    "#### Lọc đạo hàm  \n",
    "sobel"
   ],
   "id": "fa08499fa875ab51"
  },
  {
   "metadata": {
    "ExecuteTime": {
     "end_time": "2024-10-20T17:09:35.923436Z",
     "start_time": "2024-10-20T17:09:35.721069Z"
    }
   },
   "cell_type": "code",
   "source": [
    "from scipy.ndimage import sobel\n",
    "\n",
    "# Lọc Sobel theo hướng x\n",
    "sobel_x = sobel(X2, axis=0)\n",
    "\n",
    "# Lọc Sobel theo hướng y\n",
    "sobel_y = sobel(X2, axis=1)\n",
    "\n",
    "# Tổng gradient của Sobel\n",
    "sobel_total = np.hypot(sobel_x, sobel_y)\n",
    "\n",
    "# Hiển thị kết quả\n",
    "plt.figure(figsize=(12, 6))\n",
    "\n",
    "plt.subplot(1, 3, 1)\n",
    "plt.imshow(sobel_x, cmap='gray')\n",
    "plt.title('Lọc Sobel theo hướng x')\n",
    "\n",
    "plt.subplot(1, 3, 2)\n",
    "plt.imshow(sobel_y, cmap='gray')\n",
    "plt.title('Lọc Sobel theo hướng y')\n",
    "\n",
    "plt.subplot(1, 3, 3)\n",
    "plt.imshow(sobel_total, cmap='gray')\n",
    "plt.title('Tổng gradient Sobel')\n",
    "\n",
    "plt.tight_layout()\n",
    "plt.show()\n"
   ],
   "id": "f109c8ae198da2ab",
   "outputs": [
    {
     "data": {
      "text/plain": [
       "<Figure size 1200x600 with 3 Axes>"
      ],
      "image/png": "[encoded data removed]"
     },
     "metadata": {},
     "output_type": "display_data"
    }
   ],
   "execution_count": 28
  },
  {
   "metadata": {},
   "cell_type": "markdown",
   "source": "laplace ",
   "id": "15379fb6bdb69c0a"
  },
  {
   "metadata": {
    "ExecuteTime": {
     "end_time": "2024-10-20T17:11:27.009810Z",
     "start_time": "2024-10-20T17:11:26.937719Z"
    }
   },
   "cell_type": "code",
   "source": [
    "from scipy.ndimage import laplace\n",
    "\n",
    "# Lọc Laplace\n",
    "laplace_filtered = laplace(X2)\n",
    "\n",
    "# Hiển thị kết quả\n",
    "plt.imshow(laplace_filtered, cmap='gray')\n",
    "plt.title('Lọc Laplace trên X2')\n",
    "plt.show()\n"
   ],
   "id": "7af52f8cb0527e89",
   "outputs": [
    {
     "data": {
      "text/plain": [
       "<Figure size 640x480 with 1 Axes>"
      ],
      "image/png": "[encoded data removed]"
     },
     "metadata": {},
     "output_type": "display_data"
    }
   ],
   "execution_count": 29
  }
 ],
 "metadata": {
  "kernelspec": {
   "display_name": "Python 3",
   "language": "python",
   "name": "python3"
  },
  "language_info": {
   "codemirror_mode": {
    "name": "ipython",
    "version": 2
   },
   "file_extension": ".py",
   "mimetype": "text/x-python",
   "name": "python",
   "nbconvert_exporter": "python",
   "pygments_lexer": "ipython2",
   "version": "2.7.6"
  }
 },
 "nbformat": 4,
 "nbformat_minor": 5
}
